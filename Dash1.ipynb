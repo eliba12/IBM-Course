{
  "nbformat": 4,
  "nbformat_minor": 0,
  "metadata": {
    "colab": {
      "provenance": [],
      "authorship_tag": "ABX9TyMke5xXSCucVzPd+ZjCvhny",
      "include_colab_link": true
    },
    "kernelspec": {
      "name": "python3",
      "display_name": "Python 3"
    },
    "language_info": {
      "name": "python"
    }
  },
  "cells": [
    {
      "cell_type": "markdown",
      "metadata": {
        "id": "view-in-github",
        "colab_type": "text"
      },
      "source": [
        "<a href=\"https://colab.research.google.com/github/eliba12/IBM-Course/blob/main/Dash1.ipynb\" target=\"_parent\"><img src=\"https://colab.research.google.com/assets/colab-badge.svg\" alt=\"Open In Colab\"/></a>"
      ]
    },
    {
      "cell_type": "markdown",
      "source": [
        "# Import libaries"
      ],
      "metadata": {
        "id": "ZSg7I4QbRvcl"
      }
    },
    {
      "cell_type": "markdown",
      "source": [
        "### Install Dash\n"
      ],
      "metadata": {
        "id": "WjZ3V71UoyT0"
      }
    },
    {
      "cell_type": "code",
      "source": [
        "!pip install dash==0.31.1  # The core dash backend\n",
        "!pip install dash-html-components==0.13.2  # HTML components\n",
        "!pip install dash-core-components==0.39.0  # Supercharged components\n",
        "!pip install dash-table==3.1.7  # Interactive DataTable component (new!)"
      ],
      "metadata": {
        "id": "b-s228aYozwx"
      },
      "execution_count": null,
      "outputs": []
    },
    {
      "cell_type": "code",
      "source": [
        "import dash\n",
        "import dash_html_components as html\n",
        "import dash_html_components as html\n",
        "import dash_core_components as dcc"
      ],
      "metadata": {
        "id": "EFmcKVcJpZoA"
      },
      "execution_count": null,
      "outputs": []
    },
    {
      "cell_type": "code",
      "source": [
        "# Assignment instructions https://cf-courses-data.s3.us.cloud-object-storage.appdomain.cloud/IBM-DS0321EN-SkillsNetwork/labs/module_3/lab_theia_plotly_dash.md.html\n",
        "# Steps to setup development environment\n",
        "# pip3 install pandas dash\n",
        "# wget \"https://cf-courses-data.s3.us.cloud-object-storage.appdomain.cloud/IBM-DS0321EN-SkillsNetwork/datasets/spacex_launch_dash.csv\"\n",
        "# following code is a modified version of this skeleton which you can download with\n",
        "# wget \"https://cf-courses-data.s3.us.cloud-object-storage.appdomain.cloud/IBM-DS0321EN-SkillsNetwork/labs/module_3/spacex_dash_app.py\"\n",
        "# python3 spacex_dash_app.py\n",
        "\n",
        "### Install ngrok\n",
        "!wget https://bin.equinox.io/c/4VmDzA7iaHb/ngrok-stable-linux-amd64.zip\n",
        "!unzip ngrok-stable-linux-amd64.zip\n",
        "\n",
        "### Run ngrok to tunnel Dash app port 8050 to the outside world. \n",
        "### This command runs in the background.\n",
        "get_ipython().system_raw('./ngrok http 8050 &')\n",
        "\n",
        "### Get the public URL where you can access the Dash app. Copy this URL.\n",
        "! curl -s http://localhost:4040/api/tunnels | python3 -c \\\n",
        "    \"import sys, json; print(json.load(sys.stdin)['tunnels'][0]['public_url'])\"\n",
        "# Import required libraries\n",
        "#import dash\n",
        "#import dash_html_components as html\n",
        "#import dash_html_components as html\n",
        "#import dash_core_components as dcc\n",
        "#from dash.dependencies import Input, Output\n",
        "import plotly.express as px\n",
        "import pandas as pd"
      ],
      "metadata": {
        "id": "UP38z0Q3Ru6w"
      },
      "execution_count": null,
      "outputs": []
    },
    {
      "cell_type": "code",
      "source": [
        "from google.colab import files\n",
        "uploaded=files.upload()"
      ],
      "metadata": {
        "id": "s-bvqrq2abeA"
      },
      "execution_count": null,
      "outputs": []
    },
    {
      "cell_type": "code",
      "source": [
        "!wget \"https://cf-courses-data.s3.us.cloud-object-storage.appdomain.cloud/IBM-DS0321EN-SkillsNetwork/datasets/spacex_launch_dash.csv\"\n"
      ],
      "metadata": {
        "id": "O0PXefAtbP9u"
      },
      "execution_count": null,
      "outputs": []
    },
    {
      "cell_type": "code",
      "source": [
        "from google.colab import drive\n",
        "drive.mount('/content/gdrive')"
      ],
      "metadata": {
        "id": "jTVo0arNGSaW"
      },
      "execution_count": null,
      "outputs": []
    },
    {
      "cell_type": "code",
      "source": [
        "# Read the airline data into pandas dataframe\n",
        "\n",
        "spacex_df = pd.read_csv(\"spacex_launch_dash.csv\")\n",
        "max_payload = spacex_df['Payload Mass (kg)'].max()\n",
        "min_payload = spacex_df['Payload Mass (kg)'].min()\n"
      ],
      "metadata": {
        "id": "3XGGTOyAaCX2"
      },
      "execution_count": null,
      "outputs": []
    },
    {
      "cell_type": "markdown",
      "source": [
        "# Create a dash application\n",
        "\n"
      ],
      "metadata": {
        "id": "aT8jqkuSoaDb"
      }
    },
    {
      "cell_type": "code",
      "source": [
        "app = dash.Dash(__name__)"
      ],
      "metadata": {
        "colab": {
          "base_uri": "https://localhost:8080/",
          "height": 171
        },
        "id": "MHn7CPSYoacH",
        "outputId": "f3535c34-73eb-430d-d235-da24ebab620e"
      },
      "execution_count": 28,
      "outputs": [
        {
          "output_type": "error",
          "ename": "NameError",
          "evalue": "ignored",
          "traceback": [
            "\u001b[0;31m---------------------------------------------------------------------------\u001b[0m",
            "\u001b[0;31mNameError\u001b[0m                                 Traceback (most recent call last)",
            "\u001b[0;32m<ipython-input-28-298e8d827190>\u001b[0m in \u001b[0;36m<cell line: 1>\u001b[0;34m()\u001b[0m\n\u001b[0;32m----> 1\u001b[0;31m \u001b[0mapp\u001b[0m \u001b[0;34m=\u001b[0m \u001b[0mdash\u001b[0m\u001b[0;34m.\u001b[0m\u001b[0mDash\u001b[0m\u001b[0;34m(\u001b[0m\u001b[0m__name__\u001b[0m\u001b[0;34m)\u001b[0m\u001b[0;34m\u001b[0m\u001b[0;34m\u001b[0m\u001b[0m\n\u001b[0m",
            "\u001b[0;31mNameError\u001b[0m: name 'dash' is not defined"
          ]
        }
      ]
    },
    {
      "cell_type": "code",
      "source": [
        "## Dash app (https://dash.plot.ly/getting-started)\n",
        "\n",
        "### Save file with Dash app on the Google Colab machine\n",
        "%%writefile my_app1.py\n",
        "import dash\n",
        "import dash_core_components as dcc\n",
        "import dash_html_components as html"
      ],
      "metadata": {
        "colab": {
          "base_uri": "https://localhost:8080/"
        },
        "id": "xpsBT3iRqS3i",
        "outputId": "ef9bce2b-c83e-466e-ccf6-ee86f75fc010"
      },
      "execution_count": 18,
      "outputs": [
        {
          "output_type": "stream",
          "name": "stdout",
          "text": [
            "Writing my_app1.py\n"
          ]
        }
      ]
    },
    {
      "cell_type": "code",
      "source": [
        "external_stylesheets = ['https://codepen.io/chriddyp/pen/bWLwgP.css']\n",
        "\n",
        "app = dash.Dash(__name__, external_stylesheets=external_stylesheets)\n",
        "\n",
        "app.layout = html.Div(children=[\n",
        "    html.H1(children='Hello Dash'),\n",
        "\n",
        "    html.Div(children='''\n",
        "        Dash: A web application framework for Python.\n",
        "    '''),"
      ],
      "metadata": {
        "colab": {
          "base_uri": "https://localhost:8080/",
          "height": 134
        },
        "id": "HakaicqZt2pT",
        "outputId": "bfd610cc-e7db-430a-f630-058aa279945e"
      },
      "execution_count": 24,
      "outputs": [
        {
          "output_type": "error",
          "ename": "SyntaxError",
          "evalue": "ignored",
          "traceback": [
            "\u001b[0;36m  File \u001b[0;32m\"<ipython-input-24-af9c250e6e2d>\"\u001b[0;36m, line \u001b[0;32m10\u001b[0m\n\u001b[0;31m    '''),\u001b[0m\n\u001b[0m         ^\u001b[0m\n\u001b[0;31mSyntaxError\u001b[0m\u001b[0;31m:\u001b[0m incomplete input\n"
          ]
        }
      ]
    },
    {
      "cell_type": "code",
      "source": [
        "app.layout = html.Div(children=[\n",
        "    html.H1(children='Hello Dash'),\n",
        "\n",
        "    html.Div(children='''\n",
        "        Dash: A web application framework for Python.\n",
        "    '''),\n",
        "\n",
        "    dcc.Graph(\n",
        "        id='example-graph',\n",
        "        figure={\n",
        "            'data': [\n",
        "                {'x': [1, 2, 3], 'y': [4, 1, 2], 'type': 'bar', 'name': 'SF'},\n",
        "                {'x': [1, 2, 3], 'y': [2, 4, 5], 'type': 'bar', 'name': u'Montréal'},\n",
        "            ],\n",
        "            'layout': {\n",
        "                'title': 'Dash Data Visualization'\n",
        "            }\n",
        "        }\n",
        "    )\n",
        "])\n",
        "\n",
        "if __name__ == '__main__':\n",
        "    app.run_server(debug=True)"
      ],
      "metadata": {
        "colab": {
          "base_uri": "https://localhost:8080/",
          "height": 244
        },
        "id": "TQ8YvxbAr7X8",
        "outputId": "8029bfd8-420b-47cf-d88a-5a5e6e533421"
      },
      "execution_count": 20,
      "outputs": [
        {
          "output_type": "error",
          "ename": "NameError",
          "evalue": "ignored",
          "traceback": [
            "\u001b[0;31m---------------------------------------------------------------------------\u001b[0m",
            "\u001b[0;31mNameError\u001b[0m                                 Traceback (most recent call last)",
            "\u001b[0;32m<ipython-input-20-472d95f50b3b>\u001b[0m in \u001b[0;36m<cell line: 1>\u001b[0;34m()\u001b[0m\n\u001b[0;32m----> 1\u001b[0;31m app.layout = html.Div(children=[\n\u001b[0m\u001b[1;32m      2\u001b[0m     \u001b[0mhtml\u001b[0m\u001b[0;34m.\u001b[0m\u001b[0mH1\u001b[0m\u001b[0;34m(\u001b[0m\u001b[0mchildren\u001b[0m\u001b[0;34m=\u001b[0m\u001b[0;34m'Hello Dash'\u001b[0m\u001b[0;34m)\u001b[0m\u001b[0;34m,\u001b[0m\u001b[0;34m\u001b[0m\u001b[0;34m\u001b[0m\u001b[0m\n\u001b[1;32m      3\u001b[0m \u001b[0;34m\u001b[0m\u001b[0m\n\u001b[1;32m      4\u001b[0m     html.Div(children='''\n\u001b[1;32m      5\u001b[0m         \u001b[0mDash\u001b[0m\u001b[0;34m:\u001b[0m \u001b[0mA\u001b[0m \u001b[0mweb\u001b[0m \u001b[0mapplication\u001b[0m \u001b[0mframework\u001b[0m \u001b[0;32mfor\u001b[0m \u001b[0mPython\u001b[0m\u001b[0;34m.\u001b[0m\u001b[0;34m\u001b[0m\u001b[0;34m\u001b[0m\u001b[0m\n",
            "\u001b[0;31mNameError\u001b[0m: name 'html' is not defined"
          ]
        }
      ]
    },
    {
      "cell_type": "code",
      "source": [
        "app.layout = html.Div(children=[html.H1('SpaceX Launch Dashboard',\n",
        "     style={'textAlign': 'center', 'color': '#503D36','font-size': 40}),\n",
        "       # TASK 1: Add a dropdown list \n",
        "         # dcc.Dropdown(id='site-dropdown',...)\n",
        "        dcc.Dropdown(id='site-dropdown',\n",
        "          options=[\n",
        "                          {'label': 'All Sites', 'value': 'ALL'},\n",
        "                          {'label': 'CCAFS LC-40', 'value': 'CCAFS LC-40'},\n",
        "                          {'label': 'VAFB SLC-4E', 'value': 'VAFB SLC-4E'},\n",
        "                          {'label': 'KSC LC-39A', 'value': 'KSC LC-39A'},\n",
        "                          {'label': 'CCAFS SLC-40', 'value': 'CCAFS SLC-40'}\n",
        "           ],\n",
        "                 value='ALL',\n",
        "placeholder='Select a Launch Site',\n",
        "  searchable=True\n",
        "  # style={'width':'80%','padding':'3px','font-size':'20px','text-align-last':'center'}\n",
        "                                             ),\n",
        "                                html.Br()\n"
      ],
      "metadata": {
        "colab": {
          "base_uri": "https://localhost:8080/",
          "height": 134
        },
        "id": "RZ7WBbY5p029",
        "outputId": "e3e712a1-fe64-41e4-ed90-25535fbf5028"
      },
      "execution_count": 21,
      "outputs": [
        {
          "output_type": "error",
          "ename": "SyntaxError",
          "evalue": "ignored",
          "traceback": [
            "\u001b[0;36m  File \u001b[0;32m\"<ipython-input-21-5a79e761f3bb>\"\u001b[0;36m, line \u001b[0;32m18\u001b[0m\n\u001b[0;31m    html.Br()\u001b[0m\n\u001b[0m             ^\u001b[0m\n\u001b[0;31mSyntaxError\u001b[0m\u001b[0;31m:\u001b[0m incomplete input\n"
          ]
        }
      ]
    },
    {
      "cell_type": "code",
      "execution_count": null,
      "metadata": {
        "id": "1Lzqck7jG3sa"
      },
      "outputs": [],
      "source": [
        "\n",
        "# TASK 3: Add a slider for payload range\n",
        "#dcc.RangeSlider(id='payload-slider',...)\n",
        " dcc.RangeSlider(id='payload-slider',\n",
        "                                                min=0,\n",
        "                                                max=10000,\n",
        "                                                step=1000,\n",
        "                                                value=[min_payload, max_payload]\n",
        "                                                ),\n",
        "\n",
        "# TASK 4: Add a scatter chart to show the correlation between payload and launch success\n",
        "html.Div(dcc.Graph(id='success-payload-scatter-chart')),])\n",
        "\n",
        "\n",
        "# Add a callback \n",
        "@app.callback(Output(component_id='success-pie-chart', component_property='figure'),\n",
        "              Input(component_id='site-dropdown', component_property='value'))\n",
        "def get_pie_chart(entered_site):\n",
        "    filtered_df = spacex_df\n",
        "    if entered_site == 'ALL':\n",
        "        fig = px.pie(filtered_df, values='class', \n",
        "        names='Launch Site', \n",
        "        title='Success Count for all launch sites')\n",
        "        return fig\n",
        "    else:\n",
        "        # return the outcomes piechart for a selected site\n",
        "        filtered_df=spacex_df[spacex_df['Launch Site']== entered_site]\n",
        "        filtered_df=filtered_df.groupby(['Launch Site','class']).size().reset_index(name='class count')\n",
        "        fig=px.pie(filtered_df,values='class count',names='class',title=f\"Total Success Launches for site {entered_site}\")\n",
        "        return fig\n",
        "\n",
        "# TASK 4:\n",
        "# Add a callback function for dropdown` and slider`\n",
        "@app.callback(Output(component_id='success-payload-scatter-chart',component_property='figure'),\n",
        "                [Input(component_id='site-dropdown',component_property='value'),\n",
        "                Input(component_id='payload-slider',component_property='value')])\n",
        "def scatter(entered_site,payload):\n",
        "    filtered_df = spacex_df[spacex_df['Payload Mass (kg)'].between(payload[0],payload[1])]\n",
        "    # thought reusing filtered_df may cause issues, but tried it out of curiosity and it seems to be working fine\n",
        "    \n",
        "    if entered_site=='ALL':\n",
        "        fig=px.scatter(filtered_df,x='Payload Mass (kg)',y='class',color='Booster Version Category',title='Success Count Payload Mass All sites')\n",
        "        return fig\n",
        "    else:\n",
        "        fig=px.scatter(filtered_df[filtered_df['Launch Site']==entered_site],x='Payload Mass (kg)',y='class',color='Booster Version Category',title=f\"Success Count Payload Mass for Site {entered_site}\")\n",
        "        return fig\n",
        "\n",
        "# Run the app\n",
        "if __name__ == '__main__':\n",
        "    app.run_server()"
      ]
    }
  ]
}